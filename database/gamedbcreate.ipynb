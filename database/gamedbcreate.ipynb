{
 "cells": [
  {
   "cell_type": "code",
   "execution_count": 2,
   "metadata": {},
   "outputs": [],
   "source": [
    "import pandas as pd\n",
    "import random as rd"
   ]
  },
  {
   "cell_type": "code",
   "execution_count": 5,
   "metadata": {},
   "outputs": [],
   "source": [
    "df = pd.read_json (\"steamdb.json\")\n",
    "\n",
    "df = df.dropna(how='any', subset=['image', 'name', 'languages', 'current_price',\n",
    "                             'published_store', 'genres', 'developers', 'gfq_rating', 'description'])\n",
    "\n",
    "df = df.sample(n=200, random_state=1)\n",
    "\n",
    "newdf = pd.DataFrame(columns=['game_id', 'name', 'description', 'genre', \n",
    "                              'language', 'platform', 'developer', \n",
    "                              'release_year', 'release_month', 'release_day',\n",
    "                              'rating', 'current_price', 'game_image'])\n",
    "\n",
    "newdf['game_image'] = df['image']\n",
    "newdf['name'] = df['name']\n",
    "newdf['description'] = df['description']\n",
    "newdf['genre'] = df['genres']\n",
    "newdf['language'] = df['languages']\n",
    "newdf['platform'] = df['platforms']\n",
    "newdf['developer'] = df['developers']\n",
    "newdf['rating'] = df['gfq_rating']\n",
    "newdf['current_price'] = df['current_price'] / 87\n",
    "newdf['release_year'] = df['published_store']\n",
    "\n",
    "\n",
    "count = 0\n",
    "for i ,row in newdf.iterrows():\n",
    "    newdf.at[i, 'game_id'] = count\n",
    "    count += 1\n",
    "\n",
    "    data = row['release_year']\n",
    "    newdf.at[i, 'release_year'] = data[:4]\n",
    "    newdf.at[i, 'release_month'] = data[5:7]\n",
    "    newdf.at[i, 'release_day'] = data[8:10]\n",
    "\n",
    "    newdf.at[i, 'genre'] = rd.choice(str(row['genre']).split(\",\"))\n",
    "    newdf.at[i, 'developer'] = rd.choice(str(row['developer']).split(\",\"))\n",
    "    newdf.at[i, 'platform'] = rd.choice(str(row['platform']).split(\",\"))\n",
    "    newdf.at[i, 'language'] = rd.choice(str(row['language']).split(\",\"))\n",
    "\n",
    "newdf = newdf.round(1)\n",
    "\n",
    "newdf.to_csv(\"gamedb.csv\", index=False)\n"
   ]
  },
  {
   "cell_type": "code",
   "execution_count": null,
   "metadata": {},
   "outputs": [],
   "source": [
    "df = pd.read_csv(\"gamedb.csv\")\n",
    "# df = newdf\n",
    "# df['description'] = 'abc'\n",
    "\n",
    "with open(\"game.sql\", 'w') as file:\n",
    "    file.write(\"INSERT INTO game (name, description, genre, language, platform, developer, release_year, release_month, release_day, rating, current_price, game_image)\\n\")\n",
    "    for i, row in df.iterrows():\n",
    "        if \"'\" not in row['name'] and \":\" not in row['name']:\n",
    "            file.write(\"('{}', {}, '{}', '{}', '{}', '{}', {}, {}, {}, {}, {}, '{}'),\\n\".format(\n",
    "            row['name'], repr(row['description']), row['genre'], row['language'], row['platform'], \n",
    "            row['developer'], row['release_year'], row['release_month'], row['release_day'], \n",
    "            row['rating'], row['current_price'], row['game_image']\n",
    "            ))"
   ]
  },
  {
   "cell_type": "code",
   "execution_count": 11,
   "metadata": {},
   "outputs": [
    {
     "name": "stdout",
     "output_type": "stream",
     "text": [
      "'\\n'\n"
     ]
    }
   ],
   "source": [
    "print(repr(\"\\n\"))"
   ]
  }
 ],
 "metadata": {
  "kernelspec": {
   "display_name": "py3",
   "language": "python",
   "name": "python3"
  },
  "language_info": {
   "codemirror_mode": {
    "name": "ipython",
    "version": 3
   },
   "file_extension": ".py",
   "mimetype": "text/x-python",
   "name": "python",
   "nbconvert_exporter": "python",
   "pygments_lexer": "ipython3",
   "version": "3.8.13"
  },
  "orig_nbformat": 4,
  "vscode": {
   "interpreter": {
    "hash": "302efeaf5dab23e004f79439075c9cb95c45ae9afc53f91aefd7796fb9afc937"
   }
  }
 },
 "nbformat": 4,
 "nbformat_minor": 2
}
